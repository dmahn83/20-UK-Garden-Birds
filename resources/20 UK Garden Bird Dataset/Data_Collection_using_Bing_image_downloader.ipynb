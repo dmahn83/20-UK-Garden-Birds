{
  "nbformat": 4,
  "nbformat_minor": 0,
  "metadata": {
    "colab": {
      "provenance": []
    },
    "kernelspec": {
      "name": "python3",
      "display_name": "Python 3"
    }
  },
  "cells": [
    {
      "cell_type": "code",
      "metadata": {
        "id": "H_gXTAIm_aPC",
        "colab": {
          "base_uri": "https://localhost:8080/"
        },
        "outputId": "27f8592c-0a48-489b-95f7-8689ca459c42"
      },
      "source": [
        "pip install bing-image-downloader"
      ],
      "execution_count": null,
      "outputs": [
        {
          "output_type": "stream",
          "name": "stdout",
          "text": [
            "Collecting bing-image-downloader\n",
            "  Downloading bing_image_downloader-1.1.2-py3-none-any.whl (5.9 kB)\n",
            "Installing collected packages: bing-image-downloader\n",
            "Successfully installed bing-image-downloader-1.1.2\n"
          ]
        }
      ]
    },
    {
      "cell_type": "code",
      "source": [
        "import csv\n",
        "import re\n",
        "import sys\n",
        "import io\n",
        "import time\n",
        "import shutil\n",
        "import os\n",
        "from bing_image_downloader import downloader\n",
        "from google.colab import files"
      ],
      "metadata": {
        "id": "HF8lILbNLimB"
      },
      "execution_count": null,
      "outputs": []
    },
    {
      "cell_type": "markdown",
      "source": [
        "###SPECIFY LIST OF BIRDS WE NEED IMAGES FOR"
      ],
      "metadata": {
        "id": "mlmNBqOTvujU"
      }
    },
    {
      "cell_type": "code",
      "source": [
        "birds = {'House_sparrow': 'Passer domesticus',\n",
        "         'Bluetit': 'Cyanistes caeruleus',\n",
        "         'Starling': 'Sturnus vulgaris',\n",
        "         'Woodpigeon': 'Columba palumbus ',\n",
        "         'Blackbird': 'Turdus merula',\n",
        "         'Robin': 'Erithacus rubecula',\n",
        "         'Goldfinch': 'Carduelis carduelis',\n",
        "         'Great_tit': 'Parus major',\n",
        "         'Magpie': 'Pica pica',\n",
        "         'Long_tailed_tit': 'Aegithalos caudatus',\n",
        "         'Chaffinch': 'Fringilla coelebs',\n",
        "         'Dunnock': 'Prunella modularis',\n",
        "         'Jackdaw': 'Coloeus monedula',\n",
        "         'Feral_Pigeon': 'Columba livia domestica',\n",
        "         'Collared_dove': 'Streptopelia decaocto',\n",
        "         'Carrion_crow': 'Corvus corone',\n",
        "         'Coal_tit': 'Periparus ater',\n",
        "         'Greenfinch': 'Chloris chloris',\n",
        "         'Wren': 'Troglodytes troglodytes',\n",
        "         'Song_thrush': 'Turdus philomelos'\n",
        "         }"
      ],
      "metadata": {
        "id": "DQEyhOP-Gzjk"
      },
      "execution_count": null,
      "outputs": []
    },
    {
      "cell_type": "markdown",
      "source": [
        "### USING BING IMAGE DOWNLOADER GET IMAGES AND ADD PATH + URL TO A CSV FILE"
      ],
      "metadata": {
        "id": "xEINc2wqv1dE"
      }
    },
    {
      "cell_type": "code",
      "source": [
        "output_folder = 'images/'\n",
        "\n",
        "# Delete existing folders and their contents\n",
        "shutil.rmtree(output_folder, ignore_errors=True)\n",
        "\n",
        "# Create the empty images folder\n",
        "os.makedirs(output_folder)\n",
        "\n",
        "# List to store the image paths and URLs\n",
        "data = []\n",
        "\n",
        "# Get the current timestamp\n",
        "timestamp = time.strftime(\"%Y%m%d%H%M%S\")\n",
        "\n",
        "# Iterate over the dictionary\n",
        "for bird, scientific_name in birds.items():\n",
        "    output_subfolder = f\"{bird}\"\n",
        "    output_dir = output_folder + output_subfolder\n",
        "    query = scientific_name # the search term\n",
        "    limit = 150 # number of images per species download\n",
        "\n",
        "    # Redirect the standard output to capture the downloader output\n",
        "    original_stdout = sys.stdout\n",
        "    sys.stdout = output = io.StringIO()\n",
        "\n",
        "    downloader.download(query, limit=limit, output_dir=output_dir, adult_filter_off=False, force_replace=False, timeout=60, verbose=True)\n",
        "\n",
        "  # Reset the standard output and restore the original value\n",
        "    sys.stdout = original_stdout\n",
        "\n",
        "    i = 1\n",
        "    while i <= limit:\n",
        "        if f\"Downloading Image #{i}\" in output.getvalue():\n",
        "            url_pattern = r\"Downloading Image #\" + str(i) + r\" from (.*?)\\n\"\n",
        "            matches = re.findall(url_pattern, output.getvalue())\n",
        "            if matches:\n",
        "                last_url = matches[-1]\n",
        "                image_path = f\"{output_subfolder}/{scientific_name}/Image_{i}.jpg\"\n",
        "                data.append([image_path, last_url])\n",
        "        i += 1\n",
        "\n",
        "# Create new CSV filenames for paths and URLs with a timestamp\n",
        "csv_file = f'downloaded_images_{timestamp}.csv'\n",
        "\n",
        "# Write the image paths and URLs to the new CSV file\n",
        "with open(csv_file, 'w', newline='') as file:\n",
        "    writer = csv.writer(file)\n",
        "    writer.writerow(['Path', 'URL'])  # Write the header row\n",
        "    writer.writerows(data)\n",
        "\n",
        "print(f\"Image paths and urls have been saved to the new CSV file: {csv_file}\")\n"
      ],
      "metadata": {
        "colab": {
          "base_uri": "https://localhost:8080/"
        },
        "id": "e6LXekvpg0YB",
        "outputId": "7ee3d61a-a4bf-4b2b-a45e-126af1aa17f3"
      },
      "execution_count": null,
      "outputs": [
        {
          "output_type": "stream",
          "name": "stdout",
          "text": [
            "Image paths and urls have been saved to the new CSV file: downloaded_images_20230712182124.csv\n"
          ]
        }
      ]
    },
    {
      "cell_type": "markdown",
      "source": [
        "### ZIP AND DOWNLOAD IMAGES, AND DOWNLOAD CSV"
      ],
      "metadata": {
        "id": "d9hjqbpuIoP5"
      }
    },
    {
      "cell_type": "code",
      "source": [
        "#Zip image archive\n",
        "shutil.make_archive(\"/content/images\", 'zip', \"/content/images\")"
      ],
      "metadata": {
        "id": "wtqXUBavNNty",
        "outputId": "e11b5c34-5860-43c1-f543-e0c83f95607e",
        "colab": {
          "base_uri": "https://localhost:8080/",
          "height": 37
        }
      },
      "execution_count": null,
      "outputs": [
        {
          "output_type": "execute_result",
          "data": {
            "text/plain": [
              "'/content/images.zip'"
            ],
            "application/vnd.google.colaboratory.intrinsic+json": {
              "type": "string"
            }
          },
          "metadata": {},
          "execution_count": 5
        }
      ]
    },
    {
      "cell_type": "code",
      "source": [
        "#Download Images\n",
        "files.download(\"/content/images.zip\")"
      ],
      "metadata": {
        "colab": {
          "base_uri": "https://localhost:8080/",
          "height": 34
        },
        "id": "icCYh7E7Bvm8",
        "outputId": "518d45a9-77e7-4fac-ab97-7866dc7dbeca"
      },
      "execution_count": null,
      "outputs": [
        {
          "output_type": "display_data",
          "data": {
            "text/plain": [
              "<IPython.core.display.Javascript object>"
            ],
            "application/javascript": [
              "\n",
              "    async function download(id, filename, size) {\n",
              "      if (!google.colab.kernel.accessAllowed) {\n",
              "        return;\n",
              "      }\n",
              "      const div = document.createElement('div');\n",
              "      const label = document.createElement('label');\n",
              "      label.textContent = `Downloading \"${filename}\": `;\n",
              "      div.appendChild(label);\n",
              "      const progress = document.createElement('progress');\n",
              "      progress.max = size;\n",
              "      div.appendChild(progress);\n",
              "      document.body.appendChild(div);\n",
              "\n",
              "      const buffers = [];\n",
              "      let downloaded = 0;\n",
              "\n",
              "      const channel = await google.colab.kernel.comms.open(id);\n",
              "      // Send a message to notify the kernel that we're ready.\n",
              "      channel.send({})\n",
              "\n",
              "      for await (const message of channel.messages) {\n",
              "        // Send a message to notify the kernel that we're ready.\n",
              "        channel.send({})\n",
              "        if (message.buffers) {\n",
              "          for (const buffer of message.buffers) {\n",
              "            buffers.push(buffer);\n",
              "            downloaded += buffer.byteLength;\n",
              "            progress.value = downloaded;\n",
              "          }\n",
              "        }\n",
              "      }\n",
              "      const blob = new Blob(buffers, {type: 'application/binary'});\n",
              "      const a = document.createElement('a');\n",
              "      a.href = window.URL.createObjectURL(blob);\n",
              "      a.download = filename;\n",
              "      div.appendChild(a);\n",
              "      a.click();\n",
              "      div.remove();\n",
              "    }\n",
              "  "
            ]
          },
          "metadata": {}
        },
        {
          "output_type": "display_data",
          "data": {
            "text/plain": [
              "<IPython.core.display.Javascript object>"
            ],
            "application/javascript": [
              "download(\"download_09bcc933-a2b7-428e-afa4-91ed474f17a5\", \"images.zip\", 652671029)"
            ]
          },
          "metadata": {}
        }
      ]
    },
    {
      "cell_type": "code",
      "source": [
        "# Download the CSV file\n",
        "files.download(csv_file)"
      ],
      "metadata": {
        "colab": {
          "base_uri": "https://localhost:8080/",
          "height": 34
        },
        "id": "bsACetIpBv2p",
        "outputId": "b33f5ba4-c3a2-4421-d128-be1386137a3c"
      },
      "execution_count": null,
      "outputs": [
        {
          "output_type": "display_data",
          "data": {
            "text/plain": [
              "<IPython.core.display.Javascript object>"
            ],
            "application/javascript": [
              "\n",
              "    async function download(id, filename, size) {\n",
              "      if (!google.colab.kernel.accessAllowed) {\n",
              "        return;\n",
              "      }\n",
              "      const div = document.createElement('div');\n",
              "      const label = document.createElement('label');\n",
              "      label.textContent = `Downloading \"${filename}\": `;\n",
              "      div.appendChild(label);\n",
              "      const progress = document.createElement('progress');\n",
              "      progress.max = size;\n",
              "      div.appendChild(progress);\n",
              "      document.body.appendChild(div);\n",
              "\n",
              "      const buffers = [];\n",
              "      let downloaded = 0;\n",
              "\n",
              "      const channel = await google.colab.kernel.comms.open(id);\n",
              "      // Send a message to notify the kernel that we're ready.\n",
              "      channel.send({})\n",
              "\n",
              "      for await (const message of channel.messages) {\n",
              "        // Send a message to notify the kernel that we're ready.\n",
              "        channel.send({})\n",
              "        if (message.buffers) {\n",
              "          for (const buffer of message.buffers) {\n",
              "            buffers.push(buffer);\n",
              "            downloaded += buffer.byteLength;\n",
              "            progress.value = downloaded;\n",
              "          }\n",
              "        }\n",
              "      }\n",
              "      const blob = new Blob(buffers, {type: 'application/binary'});\n",
              "      const a = document.createElement('a');\n",
              "      a.href = window.URL.createObjectURL(blob);\n",
              "      a.download = filename;\n",
              "      div.appendChild(a);\n",
              "      a.click();\n",
              "      div.remove();\n",
              "    }\n",
              "  "
            ]
          },
          "metadata": {}
        },
        {
          "output_type": "display_data",
          "data": {
            "text/plain": [
              "<IPython.core.display.Javascript object>"
            ],
            "application/javascript": [
              "download(\"download_771a351e-fd7b-41f2-b161-ae03f69d24ec\", \"downloaded_images_20230712182124.csv\", 382867)"
            ]
          },
          "metadata": {}
        }
      ]
    }
  ]
}